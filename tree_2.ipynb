{
 "cells": [
  {
   "cell_type": "code",
   "execution_count": 19,
   "metadata": {},
   "outputs": [],
   "source": [
    "from collections import namedtuple\n",
    "import numpy as np\n",
    "import matplotlib.pyplot as plt\n",
    "from scipy import optimize\n",
    "from sklearn.model_selection import train_test_split\n",
    "from typing import Dict, List, Tuple, Union\n",
    "import pandas as pd\n"
   ]
  },
  {
   "cell_type": "code",
   "execution_count": 20,
   "metadata": {},
   "outputs": [],
   "source": [
    "def find_best_split(\n",
    "    task: str,\n",
    "    feature_vector: np.ndarray, \n",
    "    target_vector: np.ndarray,\n",
    ") -> Tuple[np.ndarray, np.ndarray, float, float]:\n",
    "    dispersion = lambda y: np.sum((y - np.mean(y))**2)\n",
    "    def gini(y):\n",
    "        p1 = np.sum(y)\n",
    "        p0 = 1. - p1 / y.shape[0]\n",
    "        p1 /= y.shape[0]\n",
    "        return 1 - p0**2 - p1**2\n",
    "    def impurity(task, f_type, X, y, threshold):\n",
    "        split = np.array(X <= threshold)\n",
    "        l = y[split]\n",
    "        r = y[np.logical_not(split)]\n",
    "        if task == \"regression\":\n",
    "            l_criteria = dispersion(l)\n",
    "            r_criteria = dispersion(r)\n",
    "        else:\n",
    "            l_criteria = gini(l)\n",
    "            r_criteria = gini(r)\n",
    "        return - l.shape[0] / y.shape[0] * l_criteria - r.shape[0] / y.shape[0] * r_criteria\n",
    "    #Просят отсортированные\n",
    "    index = np.argsort(feature_vector)\n",
    "    feature_vector = feature_vector[index]\n",
    "    target_vector = target_vector[index]\n",
    "    thresholds, impurities, threshold_best, impurity_best = [], [], -1, -np.inf\n",
    "    for i in range(feature_vector.shape[0]):    \n",
    "        if i == feature_vector.shape[0] - 1:\n",
    "            break\n",
    "        #Тут на всякий случай проверяем в обоих случаях, что не случилось разбиения, когда все уехали в 1 поддерево\n",
    "        cur_threshold = (feature_vector[i] + feature_vector[i+1]) / 2\n",
    "        if (target_vector[feature_vector <= cur_threshold].shape[0] == 0) or (target_vector[feature_vector > cur_threshold].shape[0] == 0):\n",
    "            continue\n",
    "        cur_impurity = impurity(feature_vector, target_vector, cur_threshold)\n",
    "        thresholds.append(cur_threshold)\n",
    "        impurities.append(cur_impurity)\n",
    "        #Обычно надоо минимум, но тут формулка с минусом, поэтому фактически максимум. На картинке понятнее\n",
    "        if cur_impurity > impurity_best:\n",
    "            threshold_best, impurity_best = cur_threshold, cur_impurity\n",
    "    return thresholds, impurities, threshold_best, impurity_best\n"
   ]
  },
  {
   "cell_type": "code",
   "execution_count": 21,
   "metadata": {},
   "outputs": [],
   "source": [
    "data = pd.read_csv(\"sdss_redshift.csv\")\n",
    "x = data[['u', 'g', 'r', 'i', 'z']].to_numpy()\n",
    "y = data['redshift'].to_numpy()\n",
    "X_train0, X_test, y_train0, y_test = train_test_split(x, y, test_size=0.5, random_state=np.random.randint(0, np.random.randint(50, 1000)))\n"
   ]
  },
  {
   "cell_type": "code",
   "execution_count": 22,
   "metadata": {},
   "outputs": [
    {
     "name": "stdout",
     "output_type": "stream",
     "text": [
      "[[21.37319 19.29492 17.83899 17.3035  16.98967]\n",
      " [19.11857 17.86208 17.04089 16.62898 16.32203]\n",
      " [20.57162 18.56461 17.61167 17.1362  16.78903]\n",
      " ...\n",
      " [16.9395  15.90051 15.51208 15.28988 15.13759]\n",
      " [20.84348 18.82782 17.77935 17.33892 17.04705]\n",
      " [19.89969 18.15171 17.00601 16.51634 16.17697]]\n"
     ]
    }
   ],
   "source": [
    "print(x)"
   ]
  },
  {
   "cell_type": "code",
   "execution_count": 23,
   "metadata": {},
   "outputs": [
    {
     "ename": "ValueError",
     "evalue": "maximum supported dimension for an ndarray is 32, found 5878",
     "output_type": "error",
     "traceback": [
      "\u001b[0;31m---------------------------------------------------------------------------\u001b[0m",
      "\u001b[0;31mValueError\u001b[0m                                Traceback (most recent call last)",
      "Cell \u001b[0;32mIn[23], line 1\u001b[0m\n\u001b[0;32m----> 1\u001b[0m find_best_split(\u001b[39m\"\u001b[39m\u001b[39mgini\u001b[39m\u001b[39m\"\u001b[39m, np\u001b[39m.\u001b[39;49mndarray(x), y)\n",
      "\u001b[0;31mValueError\u001b[0m: maximum supported dimension for an ndarray is 32, found 5878"
     ]
    }
   ],
   "source": [
    "find_best_split(\"gini\", np.ndarray(x), y)"
   ]
  }
 ],
 "metadata": {
  "kernelspec": {
   "display_name": "Python 3",
   "language": "python",
   "name": "python3"
  },
  "language_info": {
   "codemirror_mode": {
    "name": "ipython",
    "version": 3
   },
   "file_extension": ".py",
   "mimetype": "text/x-python",
   "name": "python",
   "nbconvert_exporter": "python",
   "pygments_lexer": "ipython3",
   "version": "3.11.3"
  },
  "orig_nbformat": 4
 },
 "nbformat": 4,
 "nbformat_minor": 2
}
